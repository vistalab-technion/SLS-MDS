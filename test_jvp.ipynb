{
 "cells": [
  {
   "cell_type": "code",
   "execution_count": 1,
   "metadata": {
    "collapsed": true,
    "pycharm": {
     "name": "#%%\n"
    }
   },
   "outputs": [],
   "source": [
    "import torch\n",
    "from torch.autograd.functional import jvp"
   ]
  },
  {
   "cell_type": "code",
   "execution_count": 2,
   "outputs": [],
   "source": [
    "x = (torch.rand(2, 2))\n",
    "y = x @ torch.rand((2, 4))\n",
    "\n",
    "v1 = (torch.ones(2, 4))\n",
    "v2 = (torch.ones(2, 2))"
   ],
   "metadata": {
    "collapsed": false,
    "pycharm": {
     "name": "#%%\n"
    }
   }
  },
  {
   "cell_type": "code",
   "execution_count": 3,
   "outputs": [],
   "source": [
    "def f(j):\n",
    "    return torch.pow(torch.norm(j), 2)"
   ],
   "metadata": {
    "collapsed": false,
    "pycharm": {
     "name": "#%%\n"
    }
   }
  },
  {
   "cell_type": "code",
   "execution_count": 4,
   "outputs": [
    {
     "name": "stdout",
     "output_type": "stream",
     "text": [
      "tensor(3.1677)\n"
     ]
    }
   ],
   "source": [
    "res = f(y)\n",
    "print(res)"
   ],
   "metadata": {
    "collapsed": false,
    "pycharm": {
     "name": "#%%\n"
    }
   }
  },
  {
   "cell_type": "code",
   "execution_count": 5,
   "outputs": [
    {
     "name": "stdout",
     "output_type": "stream",
     "text": [
      "(tensor(3.1677), tensor(8.5177))\n"
     ]
    }
   ],
   "source": [
    "res_jvp_v1 = jvp(f, y, v1)  # v has invalid size: should be torch.Size([2, 4]) but got torch.Size([2, 2]).\n",
    "# function jvp returns a tuple with:\n",
    "#   func_output (tuple of Tensors or Tensor): output of func(inputs)\n",
    "#   jvp (tuple of Tensors or Tensor): result of the dot product with the same shape as the output.\n",
    "print(res_jvp_v1)\n"
   ],
   "metadata": {
    "collapsed": false,
    "pycharm": {
     "name": "#%%\n"
    }
   }
  },
  {
   "cell_type": "code",
   "execution_count": 6,
   "outputs": [
    {
     "ename": "RuntimeError",
     "evalue": "v has invalid size: should be torch.Size([2, 4]) but got torch.Size([2, 2]).",
     "output_type": "error",
     "traceback": [
      "\u001B[1;31m---------------------------------------------------------------------------\u001B[0m",
      "\u001B[1;31mRuntimeError\u001B[0m                              Traceback (most recent call last)",
      "Input \u001B[1;32mIn [6]\u001B[0m, in \u001B[0;36m<cell line: 1>\u001B[1;34m()\u001B[0m\n\u001B[1;32m----> 1\u001B[0m res_jvp_v2 \u001B[38;5;241m=\u001B[39m \u001B[43mjvp\u001B[49m\u001B[43m(\u001B[49m\u001B[43mf\u001B[49m\u001B[43m,\u001B[49m\u001B[43m \u001B[49m\u001B[43my\u001B[49m\u001B[43m,\u001B[49m\u001B[43m \u001B[49m\u001B[43mv2\u001B[49m\u001B[43m)\u001B[49m  \u001B[38;5;66;03m# v has invalid size: should be torch.Size([2, 4]) but got torch.Size([2, 2]).\u001B[39;00m\n\u001B[0;32m      2\u001B[0m \u001B[38;5;28mprint\u001B[39m(res_jvp_v2)\n",
      "File \u001B[1;32m~\\anaconda3\\envs\\SLS-MDS\\lib\\site-packages\\torch\\autograd\\functional.py:364\u001B[0m, in \u001B[0;36mjvp\u001B[1;34m(func, inputs, v, create_graph, strict)\u001B[0m\n\u001B[0;32m    362\u001B[0m     _, v \u001B[38;5;241m=\u001B[39m _as_tuple(v, \u001B[38;5;124m\"\u001B[39m\u001B[38;5;124mv\u001B[39m\u001B[38;5;124m\"\u001B[39m, \u001B[38;5;124m\"\u001B[39m\u001B[38;5;124mjvp\u001B[39m\u001B[38;5;124m\"\u001B[39m)\n\u001B[0;32m    363\u001B[0m     v \u001B[38;5;241m=\u001B[39m _grad_preprocess(v, create_graph\u001B[38;5;241m=\u001B[39mcreate_graph, need_graph\u001B[38;5;241m=\u001B[39m\u001B[38;5;28;01mFalse\u001B[39;00m)\n\u001B[1;32m--> 364\u001B[0m     \u001B[43m_validate_v\u001B[49m\u001B[43m(\u001B[49m\u001B[43mv\u001B[49m\u001B[43m,\u001B[49m\u001B[43m \u001B[49m\u001B[43minputs\u001B[49m\u001B[43m,\u001B[49m\u001B[43m \u001B[49m\u001B[43mis_inputs_tuple\u001B[49m\u001B[43m)\u001B[49m\n\u001B[0;32m    365\u001B[0m \u001B[38;5;28;01melse\u001B[39;00m:\n\u001B[0;32m    366\u001B[0m     \u001B[38;5;28;01mif\u001B[39;00m \u001B[38;5;28mlen\u001B[39m(inputs) \u001B[38;5;241m!=\u001B[39m \u001B[38;5;241m1\u001B[39m \u001B[38;5;129;01mor\u001B[39;00m inputs[\u001B[38;5;241m0\u001B[39m]\u001B[38;5;241m.\u001B[39mnelement() \u001B[38;5;241m!=\u001B[39m \u001B[38;5;241m1\u001B[39m:\n",
      "File \u001B[1;32m~\\anaconda3\\envs\\SLS-MDS\\lib\\site-packages\\torch\\autograd\\functional.py:103\u001B[0m, in \u001B[0;36m_validate_v\u001B[1;34m(v, other, is_other_tuple)\u001B[0m\n\u001B[0;32m    101\u001B[0m \u001B[38;5;28;01mif\u001B[39;00m is_other_tuple:\n\u001B[0;32m    102\u001B[0m     prepend \u001B[38;5;241m=\u001B[39m \u001B[38;5;124m\"\u001B[39m\u001B[38;5;124mEntry \u001B[39m\u001B[38;5;132;01m{}\u001B[39;00m\u001B[38;5;124m in \u001B[39m\u001B[38;5;124m\"\u001B[39m\u001B[38;5;241m.\u001B[39mformat(idx)\n\u001B[1;32m--> 103\u001B[0m \u001B[38;5;28;01mraise\u001B[39;00m \u001B[38;5;167;01mRuntimeError\u001B[39;00m(\u001B[38;5;124m\"\u001B[39m\u001B[38;5;132;01m{}\u001B[39;00m\u001B[38;5;124mv has invalid size: should be \u001B[39m\u001B[38;5;132;01m{}\u001B[39;00m\u001B[38;5;124m but got \u001B[39m\u001B[38;5;132;01m{}\u001B[39;00m\u001B[38;5;124m.\u001B[39m\u001B[38;5;124m\"\u001B[39m\u001B[38;5;241m.\u001B[39mformat(\n\u001B[0;32m    104\u001B[0m                    prepend, el_other\u001B[38;5;241m.\u001B[39msize(), el_v\u001B[38;5;241m.\u001B[39msize()))\n",
      "\u001B[1;31mRuntimeError\u001B[0m: v has invalid size: should be torch.Size([2, 4]) but got torch.Size([2, 2])."
     ]
    }
   ],
   "source": [
    "res_jvp_v2 = jvp(f, y, v2)  # v has invalid size: should be torch.Size([2, 4]) but got torch.Size([2, 2]).\n",
    "print(res_jvp_v2)"
   ],
   "metadata": {
    "collapsed": false,
    "pycharm": {
     "name": "#%%\n"
    }
   }
  }
 ],
 "metadata": {
  "kernelspec": {
   "display_name": "Python 3",
   "language": "python",
   "name": "python3"
  },
  "language_info": {
   "codemirror_mode": {
    "name": "ipython",
    "version": 2
   },
   "file_extension": ".py",
   "mimetype": "text/x-python",
   "name": "python",
   "nbconvert_exporter": "python",
   "pygments_lexer": "ipython2",
   "version": "2.7.6"
  }
 },
 "nbformat": 4,
 "nbformat_minor": 0
}